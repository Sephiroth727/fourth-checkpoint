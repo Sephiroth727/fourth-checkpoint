{
 "cells": [
  {
   "cell_type": "code",
   "execution_count": 1,
   "metadata": {},
   "outputs": [
    {
     "name": "stdout",
     "output_type": "stream",
     "text": [
      "(1,2,3)\n",
      "<__main__.Point3D object at 0x041A4490>\n"
     ]
    }
   ],
   "source": [
    "# 1:\n",
    "class Point3D:\n",
    "    def __init__(self,x,y,z):\n",
    "        self.x=x\n",
    "        self.y=y\n",
    "        self.z=z\n",
    "        print(\"({},{},{})\".format(self.x,y,z))\n",
    "\n",
    "\n",
    "my_point=Point3D(1,2,3)\n",
    "print(my_point)"
   ]
  },
  {
   "cell_type": "code",
   "execution_count": 5,
   "metadata": {},
   "outputs": [
    {
     "name": "stdout",
     "output_type": "stream",
     "text": [
      "12\n",
      "14\n"
     ]
    }
   ],
   "source": [
    "# 2:\n",
    "class Rectangle:\n",
    "    def __init__(self,l,w):\n",
    "        self.length=l\n",
    "        self.width=w\n",
    "    def area(self):\n",
    "        return (self.length * self.width)\n",
    "    def perimeter(self):\n",
    "        return 2*(self.length + self.width)\n",
    "\n",
    "\n",
    "my_rectangle=Rectangle(4,3)\n",
    "print(my_rectangle.area())\n",
    "print(my_rectangle.perimeter())"
   ]
  },
  {
   "cell_type": "code",
   "execution_count": 5,
   "metadata": {},
   "outputs": [
    {
     "name": "stdout",
     "output_type": "stream",
     "text": [
      "28.26\n",
      "18.84\n",
      "Point is NOT in the circle\n",
      "None\n"
     ]
    }
   ],
   "source": [
    "# 3:\n",
    "import math\n",
    "class circle:\n",
    "    def __init__(self,O,r):\n",
    "        self.center=O\n",
    "        self.raduis=r\n",
    "    def area(self):\n",
    "        return (self.raduis ** 2 * 3.14)\n",
    "    def perimeter(self):\n",
    "        return (self.raduis*2*3.14)\n",
    "    def inside(self,x,y):\n",
    "        self.x=x\n",
    "        self.y=y\n",
    "        hypotenuse = math.sqrt(self.x ** 2 + self.y ** 2)\n",
    "        if hypotenuse <= self.raduis:\n",
    "            print(\"Point belongs to circle\")\n",
    "        else:\n",
    "            print(\"Point is NOT in the circle\")\n",
    "            exit()\n",
    "\n",
    "\n",
    "my_circle=circle(\"O\",3)\n",
    "print(my_circle.area())\n",
    "print(my_circle.perimeter())\n",
    "print(my_circle.inside(-1,5))"
   ]
  },
  {
   "cell_type": "code",
   "execution_count": 1,
   "metadata": {},
   "outputs": [
    {
     "name": "stdout",
     "output_type": "stream",
     "text": [
      "you're mchoumer :( you left  1000\n",
      "None\n"
     ]
    }
   ],
   "source": [
    "# 4:\n",
    "class bank:\n",
    "    def __init__(self,b):\n",
    "        self.balance=b\n",
    "    def deposit(self,d):\n",
    "        self.balance=self.balance+d\n",
    "        print(\"you're new balance is: \", self.balance)\n",
    "    def withdraw(self,w):\n",
    "        if w <= self.balance:\n",
    "            self.balance=self.balance-w\n",
    "            print(\"your new balance is: \", self.balance)\n",
    "        else:\n",
    "            print(\"you're mchoumer :( you left \", self.balance)\n",
    "\n",
    "\n",
    "b=bank(1000)\n",
    "print(b.withdraw(1600))"
   ]
  },
  {
   "cell_type": "code",
   "execution_count": null,
   "metadata": {},
   "outputs": [],
   "source": []
  }
 ],
 "metadata": {
  "kernelspec": {
   "display_name": "Python 3",
   "language": "python",
   "name": "python3"
  },
  "language_info": {
   "codemirror_mode": {
    "name": "ipython",
    "version": 3
   },
   "file_extension": ".py",
   "mimetype": "text/x-python",
   "name": "python",
   "nbconvert_exporter": "python",
   "pygments_lexer": "ipython3",
   "version": "3.7.0"
  }
 },
 "nbformat": 4,
 "nbformat_minor": 2
}
